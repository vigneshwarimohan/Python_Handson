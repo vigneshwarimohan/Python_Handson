{
 "cells": [
  {
   "cell_type": "markdown",
   "metadata": {},
   "source": [
    "In a school, there are total 100 students numbered from 1 to 100. You’re given three lists named ‘C’, ‘F’, and ‘H’, representing students who play cricket, football, and hockey, respectively. Based on this information, find out and print the following: \n",
    "- Students who play all the three sports\n",
    "- Students who play both cricket and football but don’t play hockey\n",
    "- Students who play exactly two of the sports\n",
    "- Students who don’t play any of the three sports"
   ]
  },
  {
   "cell_type": "code",
   "execution_count": 1,
   "metadata": {},
   "outputs": [],
   "source": [
    "C = [7, 8, 9, 18, 20, 21, 25, 26, 27, 31, 32, 34, 35, 36, 40, 43, 45, 47, 53, 58, 62, 67, 68, 71, 72, 74, 75, 76, 80, 81, 82, 90, 93, 95, 97, 99]\n",
    "F = [1, 7, 10, 13, 16, 22, 24, 29, 30, 32, 34, 39, 40, 43, 44, 48, 56, 60, 65, 68, 69, 73, 77, 78, 90, 93, 94, 95, 96]\n",
    "H = [5, 12, 14, 17, 20, 21, 22, 25, 28, 30, 37, 38, 39, 40, 42, 44, 57, 59, 61, 62, 67, 71, 75, 76, 77, 82, 83, 86, 87, 92, 94, 95]"
   ]
  },
  {
   "cell_type": "markdown",
   "metadata": {},
   "source": [
    "#### Q1. Which are the students who play all the three sports?\n",
    "- [22, 39]\n",
    "- [39, 82]\n",
    "- [40, 95]\n",
    "- [82, 94]\n",
    "Answer - [40, 95]\n",
    "\n",
    "[40, 95]\n",
    "\n",
    "Feedback :\n",
    "Correct! When you convert the given lists, (C, F, H) into sets and find their intersection, you get [40, 95]."
   ]
  },
  {
   "cell_type": "markdown",
   "metadata": {},
   "source": [
    "#### Q2. Which are the players who play both cricket and hockey but don't play football?\n",
    "- [20, 21, 25, 62, 67, 71, 75, 76, 82]\n",
    "- [20, 21, 22, 25, 30, 32, 34]\n",
    "- [20, 21, 22, 25, 30, 32, 34, 39, 43, 44, 62]\n",
    "- [20, 21, 68, 71, 75, 76]\n",
    "Answer - \n",
    "[20, 21, 25, 62, 67, 71, 75, 76, 82]\n",
    "Here you need to find the intersection of C and H. But since that will also include players who play football, you need to explicitly subtract the football players."
   ]
  },
  {
   "cell_type": "markdown",
   "metadata": {},
   "source": [
    "#### Q3. How many players play exactly two sports?\n",
    "- 19\n",
    "- 20\n",
    "- 21\n",
    "- 22\n",
    "Answer - 22 \n",
    "Feedback :\n",
    "Here, you need to find the people who play exactly two sports. So you need to find out people who play C and F, F and H, and F and C and take their union. But since this will also include the people who play all the three sports, you need to subtract that. The final list, hence turns out to be 22 players long."
   ]
  },
  {
   "cell_type": "markdown",
   "metadata": {},
   "source": [
    "#### Q4. Which of these students do not play any of the sports? (More than one option may be correct)\n",
    "- 41\n",
    "- 48\n",
    "- 63\n",
    "- 85\n",
    "\n",
    "Answers \n",
    "41\n",
    "\n",
    "Feedback :\n",
    "Here you need to take a union of all the three sets C, F, and H. Now, since you know there are 100 students numbered 1 to 100, you can create a set containing numbers from 1 to 100. Finally, you subtract the union of C, F, and H from this set and get the required list of people who do not play any of the sports.\n",
    "\n",
    "63\n",
    "\n",
    "Feedback :\n",
    "Here you need to take a union of all the three sets C, F, and H. Now, since you know there are 100 students numbered 1 to 100, you can create a set containing numbers from 1 to 100. Finally, you subtract the union of C, F, and H from this set and get the required list of people who do not play any of the sports.\n",
    "\n",
    "85\n",
    "\n",
    "Feedback :\n",
    "Here you need to take a union of all the three sets C, F, and H. Now, since you know there are 100 students numbered 1 to 100, you can create a set containing numbers from 1 to 100. Finally, you subtract the union of C, F, and H from this set and get the required list of people who do not play any of the sports."
   ]
  },
  {
   "cell_type": "code",
   "execution_count": null,
   "metadata": {},
   "outputs": [],
   "source": []
  }
 ],
 "metadata": {
  "kernelspec": {
   "display_name": "Python 3",
   "language": "python",
   "name": "python3"
  },
  "language_info": {
   "codemirror_mode": {
    "name": "ipython",
    "version": 3
   },
   "file_extension": ".py",
   "mimetype": "text/x-python",
   "name": "python",
   "nbconvert_exporter": "python",
   "pygments_lexer": "ipython3",
   "version": "3.7.6"
  }
 },
 "nbformat": 4,
 "nbformat_minor": 2
}
